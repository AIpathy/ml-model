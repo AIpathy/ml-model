{
 "cells": [
  {
   "cell_type": "code",
   "execution_count": null,
   "id": "48348d67",
   "metadata": {},
   "outputs": [],
   "source": [
    "import os\n",
    "from dotenv import load_dotenv\n",
    "from io import BytesIO\n",
    "import requests\n",
    "from elevenlabs.client import ElevenLabs"
   ]
  },
  {
   "cell_type": "code",
   "execution_count": 27,
   "id": "c909a2e0",
   "metadata": {},
   "outputs": [
    {
     "name": "stdout",
     "output_type": "stream",
     "text": [
      "language_code='tur' language_probability=1.0 text='Bugün kendimi pek iyi hissetmiyorum ve içimden dışarıya çıkmak gelmiyor.' words=[SpeechToTextWordResponseModel(text='Bugün', start=1.079, end=1.359, type='word', speaker_id=None, logprob=0.0, characters=None), SpeechToTextWordResponseModel(text=' ', start=1.359, end=1.399, type='spacing', speaker_id=None, logprob=0.0, characters=None), SpeechToTextWordResponseModel(text='kendimi', start=1.399, end=1.799, type='word', speaker_id=None, logprob=0.0, characters=None), SpeechToTextWordResponseModel(text=' ', start=1.799, end=1.799, type='spacing', speaker_id=None, logprob=0.0, characters=None), SpeechToTextWordResponseModel(text='pek', start=1.799, end=1.979, type='word', speaker_id=None, logprob=0.0, characters=None), SpeechToTextWordResponseModel(text=' ', start=1.979, end=1.979, type='spacing', speaker_id=None, logprob=0.0, characters=None), SpeechToTextWordResponseModel(text='iyi', start=1.979, end=2.099, type='word', speaker_id=None, logprob=0.0, characters=None), SpeechToTextWordResponseModel(text=' ', start=2.099, end=2.099, type='spacing', speaker_id=None, logprob=0.0, characters=None), SpeechToTextWordResponseModel(text='hissetmiyorum', start=2.099, end=2.799, type='word', speaker_id=None, logprob=0.0, characters=None), SpeechToTextWordResponseModel(text=' ', start=2.799, end=2.839, type='spacing', speaker_id=None, logprob=0.0, characters=None), SpeechToTextWordResponseModel(text='ve', start=2.839, end=3.019, type='word', speaker_id=None, logprob=0.0, characters=None), SpeechToTextWordResponseModel(text=' ', start=3.019, end=3.659, type='spacing', speaker_id=None, logprob=0.0, characters=None), SpeechToTextWordResponseModel(text='içimden', start=3.659, end=4.079, type='word', speaker_id=None, logprob=0.0, characters=None), SpeechToTextWordResponseModel(text=' ', start=4.079, end=4.099, type='spacing', speaker_id=None, logprob=0.0, characters=None), SpeechToTextWordResponseModel(text='dışarıya', start=4.099, end=4.46, type='word', speaker_id=None, logprob=0.0, characters=None), SpeechToTextWordResponseModel(text=' ', start=4.46, end=4.46, type='spacing', speaker_id=None, logprob=0.0, characters=None), SpeechToTextWordResponseModel(text='çıkmak', start=4.46, end=4.779, type='word', speaker_id=None, logprob=0.0, characters=None), SpeechToTextWordResponseModel(text=' ', start=4.779, end=4.819, type='spacing', speaker_id=None, logprob=0.0, characters=None), SpeechToTextWordResponseModel(text='gelmiyor.', start=4.819, end=5.459, type='word', speaker_id=None, logprob=0.0, characters=None)] additional_formats=None\n"
     ]
    }
   ],
   "source": [
    "load_dotenv()\n",
    "\n",
    "elevenlabs = ElevenLabs(\n",
    "  api_key=os.getenv(\"ELEVENLABS_API_KEY\"),\n",
    ")\n",
    "\n",
    "# Path to your local MP3 file\n",
    "audio_path = \"AiPathyAuido.m4a\"\n",
    "\n",
    "# Open the file and read the content\n",
    "with open(audio_path, 'rb') as f:\n",
    "    audio_data = BytesIO(f.read())\n",
    "\n",
    "transcription = elevenlabs.speech_to_text.convert(\n",
    "    file=audio_data,\n",
    "    model_id=\"scribe_v1\", # Model to use, for now only \"scribe_v1\" is supported\n",
    "    tag_audio_events=True, # Tag audio events like laughter, applause, etc.\n",
    "    language_code=\"tur\", # Language of the audio file. If set to None, the model will detect the language automatically.\n",
    ")\n",
    "\n",
    "print(transcription)"
   ]
  },
  {
   "cell_type": "code",
   "execution_count": 26,
   "id": "07ddd05f",
   "metadata": {},
   "outputs": [
    {
     "data": {
      "text/plain": [
       "'Bugün kendimi pek iyi hissetmiyorum ve içimden dışarıya çıkmak gelmiyor.'"
      ]
     },
     "execution_count": 26,
     "metadata": {},
     "output_type": "execute_result"
    }
   ],
   "source": [
    "transcription.text"
   ]
  }
 ],
 "metadata": {
  "kernelspec": {
   "display_name": "Python 3",
   "language": "python",
   "name": "python3"
  },
  "language_info": {
   "codemirror_mode": {
    "name": "ipython",
    "version": 3
   },
   "file_extension": ".py",
   "mimetype": "text/x-python",
   "name": "python",
   "nbconvert_exporter": "python",
   "pygments_lexer": "ipython3",
   "version": "3.10.7"
  }
 },
 "nbformat": 4,
 "nbformat_minor": 5
}
