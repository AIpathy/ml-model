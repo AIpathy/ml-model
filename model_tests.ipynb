{
 "cells": [
  {
   "cell_type": "code",
   "execution_count": 1,
   "id": "2eff7883",
   "metadata": {},
   "outputs": [],
   "source": [
    "import pandas as pd\n",
    "import pickle"
   ]
  },
  {
   "cell_type": "code",
   "execution_count": 2,
   "id": "fb2702fd",
   "metadata": {},
   "outputs": [],
   "source": [
    "new_point = { \n",
    "    'Yaş': 53,\n",
    "    'Cinsiyet': 'Kadın',\n",
    "    'Medeni_Durum': 'Bekar',\n",
    "    'Çalışma_Durumu': 'Çalışıyor',\n",
    "    'Çalışma_Süresi': 12,\n",
    "    'Soru_1': 1,\n",
    "    'Soru_2': 4,\n",
    "    'Soru_3': 2,\n",
    "    'Soru_4': 4,\n",
    "    'Soru_5': 3,\n",
    "    'Soru_6': 3,\n",
    "    'Soru_7': 4,\n",
    "    'Soru_8': 3,\n",
    "    'Soru_9': 4,\n",
    "    'Soru_10': 4,\n",
    "    'Soru_11': 4,\n",
    "    'Soru_12': 2,\n",
    "    'Soru_13': 1,\n",
    "    'Soru_14': 0,\n",
    "    'Soru_15': 3,\n",
    "    'Soru_16': 1,\n",
    "    'Soru_17': 4,\n",
    "    'Soru_18': 3,\n",
    "    'Soru_19': 1,\n",
    "    'Soru_20': 1,\n",
    "    'Toplam_Puan': 49.236484\n",
    "}"
   ]
  },
  {
   "cell_type": "code",
   "execution_count": 3,
   "id": "5c898484",
   "metadata": {},
   "outputs": [],
   "source": [
    "new_data = pd.DataFrame([new_point])"
   ]
  },
  {
   "cell_type": "code",
   "execution_count": 4,
   "id": "34a8df28",
   "metadata": {},
   "outputs": [
    {
     "data": {
      "text/html": [
       "<div>\n",
       "<style scoped>\n",
       "    .dataframe tbody tr th:only-of-type {\n",
       "        vertical-align: middle;\n",
       "    }\n",
       "\n",
       "    .dataframe tbody tr th {\n",
       "        vertical-align: top;\n",
       "    }\n",
       "\n",
       "    .dataframe thead th {\n",
       "        text-align: right;\n",
       "    }\n",
       "</style>\n",
       "<table border=\"1\" class=\"dataframe\">\n",
       "  <thead>\n",
       "    <tr style=\"text-align: right;\">\n",
       "      <th></th>\n",
       "      <th>Yaş</th>\n",
       "      <th>Cinsiyet</th>\n",
       "      <th>Medeni_Durum</th>\n",
       "      <th>Çalışma_Durumu</th>\n",
       "      <th>Çalışma_Süresi</th>\n",
       "      <th>Soru_1</th>\n",
       "      <th>Soru_2</th>\n",
       "      <th>Soru_3</th>\n",
       "      <th>Soru_4</th>\n",
       "      <th>Soru_5</th>\n",
       "      <th>...</th>\n",
       "      <th>Soru_12</th>\n",
       "      <th>Soru_13</th>\n",
       "      <th>Soru_14</th>\n",
       "      <th>Soru_15</th>\n",
       "      <th>Soru_16</th>\n",
       "      <th>Soru_17</th>\n",
       "      <th>Soru_18</th>\n",
       "      <th>Soru_19</th>\n",
       "      <th>Soru_20</th>\n",
       "      <th>Toplam_Puan</th>\n",
       "    </tr>\n",
       "  </thead>\n",
       "  <tbody>\n",
       "    <tr>\n",
       "      <th>0</th>\n",
       "      <td>53</td>\n",
       "      <td>Kadın</td>\n",
       "      <td>Bekar</td>\n",
       "      <td>Çalışıyor</td>\n",
       "      <td>12</td>\n",
       "      <td>1</td>\n",
       "      <td>4</td>\n",
       "      <td>2</td>\n",
       "      <td>4</td>\n",
       "      <td>3</td>\n",
       "      <td>...</td>\n",
       "      <td>2</td>\n",
       "      <td>1</td>\n",
       "      <td>0</td>\n",
       "      <td>3</td>\n",
       "      <td>1</td>\n",
       "      <td>4</td>\n",
       "      <td>3</td>\n",
       "      <td>1</td>\n",
       "      <td>1</td>\n",
       "      <td>49.236484</td>\n",
       "    </tr>\n",
       "  </tbody>\n",
       "</table>\n",
       "<p>1 rows × 26 columns</p>\n",
       "</div>"
      ],
      "text/plain": [
       "   Yaş Cinsiyet Medeni_Durum Çalışma_Durumu  Çalışma_Süresi  Soru_1  Soru_2  \\\n",
       "0   53    Kadın        Bekar      Çalışıyor              12       1       4   \n",
       "\n",
       "   Soru_3  Soru_4  Soru_5  ...  Soru_12  Soru_13  Soru_14  Soru_15  Soru_16  \\\n",
       "0       2       4       3  ...        2        1        0        3        1   \n",
       "\n",
       "   Soru_17  Soru_18  Soru_19  Soru_20  Toplam_Puan  \n",
       "0        4        3        1        1    49.236484  \n",
       "\n",
       "[1 rows x 26 columns]"
      ]
     },
     "execution_count": 4,
     "metadata": {},
     "output_type": "execute_result"
    }
   ],
   "source": [
    "new_data"
   ]
  },
  {
   "cell_type": "code",
   "execution_count": 5,
   "id": "e4530702",
   "metadata": {},
   "outputs": [],
   "source": [
    "# Load the saved encoder\n",
    "with open('./encoders/alcohol_rf_encoder.pkl', 'rb') as f:\n",
    "    encoder = pickle.load(f)\n",
    "\n",
    "# Load the saved model\n",
    "with open('./models/alcohol_rf_model.pkl', 'rb') as f:\n",
    "    model = pickle.load(f)\n"
   ]
  },
  {
   "cell_type": "code",
   "execution_count": 6,
   "id": "11048313",
   "metadata": {},
   "outputs": [],
   "source": [
    "# Select only the same categorical columns used during training\n",
    "categorical_cols = new_data.select_dtypes(include=['object', 'category']).columns\n",
    "\n",
    "# Encode the categorical part\n",
    "encoded_new_cat = encoder.transform(new_data[categorical_cols])\n",
    "\n",
    "# Convert to DataFrame\n",
    "encoded_new_cat_df = pd.DataFrame(encoded_new_cat, columns=encoder.get_feature_names_out(categorical_cols), index=new_data.index)\n",
    "\n",
    "# Drop original categorical columns and concatenate encoded ones\n",
    "new_data_encoded = pd.concat([encoded_new_cat_df,new_data.drop(columns=categorical_cols)], axis=1)\n"
   ]
  },
  {
   "cell_type": "code",
   "execution_count": 7,
   "id": "99f856c9",
   "metadata": {},
   "outputs": [
    {
     "data": {
      "text/html": [
       "<div>\n",
       "<style scoped>\n",
       "    .dataframe tbody tr th:only-of-type {\n",
       "        vertical-align: middle;\n",
       "    }\n",
       "\n",
       "    .dataframe tbody tr th {\n",
       "        vertical-align: top;\n",
       "    }\n",
       "\n",
       "    .dataframe thead th {\n",
       "        text-align: right;\n",
       "    }\n",
       "</style>\n",
       "<table border=\"1\" class=\"dataframe\">\n",
       "  <thead>\n",
       "    <tr style=\"text-align: right;\">\n",
       "      <th></th>\n",
       "      <th>Cinsiyet_Diğer</th>\n",
       "      <th>Cinsiyet_Erkek</th>\n",
       "      <th>Cinsiyet_Kadın</th>\n",
       "      <th>Medeni_Durum_Bekar</th>\n",
       "      <th>Medeni_Durum_Boşanmış</th>\n",
       "      <th>Medeni_Durum_Evli</th>\n",
       "      <th>Çalışma_Durumu_Emekli</th>\n",
       "      <th>Çalışma_Durumu_Çalışıyor</th>\n",
       "      <th>Çalışma_Durumu_Öğrenci</th>\n",
       "      <th>Çalışma_Durumu_İşsiz</th>\n",
       "      <th>...</th>\n",
       "      <th>Soru_12</th>\n",
       "      <th>Soru_13</th>\n",
       "      <th>Soru_14</th>\n",
       "      <th>Soru_15</th>\n",
       "      <th>Soru_16</th>\n",
       "      <th>Soru_17</th>\n",
       "      <th>Soru_18</th>\n",
       "      <th>Soru_19</th>\n",
       "      <th>Soru_20</th>\n",
       "      <th>Toplam_Puan</th>\n",
       "    </tr>\n",
       "  </thead>\n",
       "  <tbody>\n",
       "    <tr>\n",
       "      <th>0</th>\n",
       "      <td>0.0</td>\n",
       "      <td>0.0</td>\n",
       "      <td>1.0</td>\n",
       "      <td>1.0</td>\n",
       "      <td>0.0</td>\n",
       "      <td>0.0</td>\n",
       "      <td>0.0</td>\n",
       "      <td>1.0</td>\n",
       "      <td>0.0</td>\n",
       "      <td>0.0</td>\n",
       "      <td>...</td>\n",
       "      <td>2</td>\n",
       "      <td>1</td>\n",
       "      <td>0</td>\n",
       "      <td>3</td>\n",
       "      <td>1</td>\n",
       "      <td>4</td>\n",
       "      <td>3</td>\n",
       "      <td>1</td>\n",
       "      <td>1</td>\n",
       "      <td>49.236484</td>\n",
       "    </tr>\n",
       "  </tbody>\n",
       "</table>\n",
       "<p>1 rows × 33 columns</p>\n",
       "</div>"
      ],
      "text/plain": [
       "   Cinsiyet_Diğer  Cinsiyet_Erkek  Cinsiyet_Kadın  Medeni_Durum_Bekar  \\\n",
       "0             0.0             0.0             1.0                 1.0   \n",
       "\n",
       "   Medeni_Durum_Boşanmış  Medeni_Durum_Evli  Çalışma_Durumu_Emekli  \\\n",
       "0                    0.0                0.0                    0.0   \n",
       "\n",
       "   Çalışma_Durumu_Çalışıyor  Çalışma_Durumu_Öğrenci  Çalışma_Durumu_İşsiz  \\\n",
       "0                       1.0                     0.0                   0.0   \n",
       "\n",
       "   ...  Soru_12  Soru_13  Soru_14  Soru_15  Soru_16  Soru_17  Soru_18  \\\n",
       "0  ...        2        1        0        3        1        4        3   \n",
       "\n",
       "   Soru_19  Soru_20  Toplam_Puan  \n",
       "0        1        1    49.236484  \n",
       "\n",
       "[1 rows x 33 columns]"
      ]
     },
     "execution_count": 7,
     "metadata": {},
     "output_type": "execute_result"
    }
   ],
   "source": [
    "new_data_encoded"
   ]
  },
  {
   "cell_type": "code",
   "execution_count": 8,
   "id": "f5caa74e",
   "metadata": {},
   "outputs": [
    {
     "name": "stdout",
     "output_type": "stream",
     "text": [
      "Predicted Risk Group: Orta Risk\n"
     ]
    }
   ],
   "source": [
    "# Predict with the loaded model\n",
    "prediction = model.predict(new_data_encoded)\n",
    "\n",
    "# Show result\n",
    "print(\"Predicted Risk Group:\", prediction[0])\n"
   ]
  },
  {
   "cell_type": "code",
   "execution_count": 9,
   "id": "b39379ba",
   "metadata": {},
   "outputs": [],
   "source": [
    "def predict(new_point, encoder_path, model_path):\n",
    "\n",
    "    new_data = pd.DataFrame([new_point])\n",
    "    \n",
    "    # Load the saved encoder\n",
    "    with open(encoder_path, 'rb') as f:\n",
    "        encoder = pickle.load(f)\n",
    "\n",
    "    # Load the saved model\n",
    "    with open(model_path, 'rb') as f:\n",
    "        model = pickle.load(f)\n",
    "\n",
    "    # Select only the same categorical columns used during training\n",
    "    categorical_cols = new_data.select_dtypes(include=['object', 'category']).columns\n",
    "\n",
    "    # Encode the categorical part\n",
    "    encoded_new_cat = encoder.transform(new_data[categorical_cols])\n",
    "\n",
    "    # Convert to DataFrame\n",
    "    encoded_new_cat_df = pd.DataFrame(encoded_new_cat, columns=encoder.get_feature_names_out(categorical_cols), index=new_data.index)\n",
    "\n",
    "    # Drop original categorical columns and concatenate encoded ones\n",
    "    new_data_encoded = pd.concat([encoded_new_cat_df,new_data.drop(columns=categorical_cols)], axis=1)\n",
    "\n",
    "    prediction = model.predict(new_data_encoded)\n",
    "\n",
    "    return prediction[0]"
   ]
  },
  {
   "cell_type": "code",
   "execution_count": 10,
   "id": "b8113aba",
   "metadata": {},
   "outputs": [],
   "source": [
    "encoder_path = './encoders/alcohol_rf_encoder.pkl'\n",
    "model_path = './models/alcohol_rf_model.pkl'"
   ]
  },
  {
   "cell_type": "code",
   "execution_count": 11,
   "id": "4890abf7",
   "metadata": {},
   "outputs": [
    {
     "data": {
      "text/plain": [
       "'Orta Risk'"
      ]
     },
     "execution_count": 11,
     "metadata": {},
     "output_type": "execute_result"
    }
   ],
   "source": [
    "predict(new_point, encoder_path, model_path)"
   ]
  },
  {
   "cell_type": "code",
   "execution_count": 12,
   "id": "026ddd27",
   "metadata": {},
   "outputs": [
    {
     "data": {
      "text/plain": [
       "'Yüksek Risk'"
      ]
     },
     "execution_count": 12,
     "metadata": {},
     "output_type": "execute_result"
    }
   ],
   "source": [
    "predict(new_point, './encoders/anger_rf_encoder.pkl', './models/anger_rf_model.pkl')"
   ]
  },
  {
   "cell_type": "code",
   "execution_count": null,
   "id": "2d25dcb1",
   "metadata": {},
   "outputs": [],
   "source": []
  }
 ],
 "metadata": {
  "kernelspec": {
   "display_name": "Python 3",
   "language": "python",
   "name": "python3"
  },
  "language_info": {
   "codemirror_mode": {
    "name": "ipython",
    "version": 3
   },
   "file_extension": ".py",
   "mimetype": "text/x-python",
   "name": "python",
   "nbconvert_exporter": "python",
   "pygments_lexer": "ipython3",
   "version": "3.10.7"
  }
 },
 "nbformat": 4,
 "nbformat_minor": 5
}
