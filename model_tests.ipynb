{
 "cells": [
  {
   "cell_type": "code",
   "execution_count": 1,
   "id": "2eff7883",
   "metadata": {},
   "outputs": [],
   "source": [
    "import pandas as pd\n",
    "import pickle"
   ]
  },
  {
   "cell_type": "code",
   "execution_count": 16,
   "id": "fb2702fd",
   "metadata": {},
   "outputs": [],
   "source": [
    "new_point = { \n",
    "    'Yas': 53,\n",
    "    'Cinsiyet': 'Kadın',\n",
    "    'Medeni_Hal': 'Bekar',\n",
    "    'Is_Durumu': 'Çalışıyor',\n",
    "    'Egitim': 'Lise',\n",
    "    'Gelir_Duzeyi': 'Düşük',\n",
    "    'Yasam_Yeri': 'Küçük Şehir',\n",
    "    'Psikolojik_Destek': 'Hayır',\n",
    "    'Calisma_Suresi': 12,\n",
    "    'Soru_1': 1,\n",
    "    'Soru_2': 4,\n",
    "    'Soru_3': 2,\n",
    "    'Soru_4': 4,\n",
    "    'Soru_5': 3,\n",
    "    'Soru_6': 3,\n",
    "    'Soru_7': 4,\n",
    "    'Soru_8': 3,\n",
    "    'Soru_9': 4,\n",
    "    'Soru_10': 4,\n",
    "    'Soru_11': 4,\n",
    "    'Soru_12': 2,\n",
    "    'Soru_13': 1,\n",
    "    'Soru_14': 0,\n",
    "    'Soru_15': 3,\n",
    "    'Soru_16': 1,\n",
    "    'Soru_17': 4,\n",
    "    'Soru_18': 3,\n",
    "    'Soru_19': 1,\n",
    "    'Soru_20': 1\n",
    "}"
   ]
  },
  {
   "cell_type": "code",
   "execution_count": 17,
   "id": "5c898484",
   "metadata": {},
   "outputs": [],
   "source": [
    "new_data = pd.DataFrame([new_point])"
   ]
  },
  {
   "cell_type": "code",
   "execution_count": 18,
   "id": "34a8df28",
   "metadata": {},
   "outputs": [
    {
     "data": {
      "text/html": [
       "<div>\n",
       "<style scoped>\n",
       "    .dataframe tbody tr th:only-of-type {\n",
       "        vertical-align: middle;\n",
       "    }\n",
       "\n",
       "    .dataframe tbody tr th {\n",
       "        vertical-align: top;\n",
       "    }\n",
       "\n",
       "    .dataframe thead th {\n",
       "        text-align: right;\n",
       "    }\n",
       "</style>\n",
       "<table border=\"1\" class=\"dataframe\">\n",
       "  <thead>\n",
       "    <tr style=\"text-align: right;\">\n",
       "      <th></th>\n",
       "      <th>Yas</th>\n",
       "      <th>Cinsiyet</th>\n",
       "      <th>Medeni_Hal</th>\n",
       "      <th>Is_Durumu</th>\n",
       "      <th>Egitim</th>\n",
       "      <th>Gelir_Duzeyi</th>\n",
       "      <th>Yasam_Yeri</th>\n",
       "      <th>Psikolojik_Destek</th>\n",
       "      <th>Calisma_Suresi</th>\n",
       "      <th>Soru_1</th>\n",
       "      <th>...</th>\n",
       "      <th>Soru_11</th>\n",
       "      <th>Soru_12</th>\n",
       "      <th>Soru_13</th>\n",
       "      <th>Soru_14</th>\n",
       "      <th>Soru_15</th>\n",
       "      <th>Soru_16</th>\n",
       "      <th>Soru_17</th>\n",
       "      <th>Soru_18</th>\n",
       "      <th>Soru_19</th>\n",
       "      <th>Soru_20</th>\n",
       "    </tr>\n",
       "  </thead>\n",
       "  <tbody>\n",
       "    <tr>\n",
       "      <th>0</th>\n",
       "      <td>53</td>\n",
       "      <td>Kadın</td>\n",
       "      <td>Bekar</td>\n",
       "      <td>Çalışıyor</td>\n",
       "      <td>Lise</td>\n",
       "      <td>Düşük</td>\n",
       "      <td>Küçük Şehir</td>\n",
       "      <td>Hayır</td>\n",
       "      <td>12</td>\n",
       "      <td>1</td>\n",
       "      <td>...</td>\n",
       "      <td>4</td>\n",
       "      <td>2</td>\n",
       "      <td>1</td>\n",
       "      <td>0</td>\n",
       "      <td>3</td>\n",
       "      <td>1</td>\n",
       "      <td>4</td>\n",
       "      <td>3</td>\n",
       "      <td>1</td>\n",
       "      <td>1</td>\n",
       "    </tr>\n",
       "  </tbody>\n",
       "</table>\n",
       "<p>1 rows × 29 columns</p>\n",
       "</div>"
      ],
      "text/plain": [
       "   Yas Cinsiyet Medeni_Hal  Is_Durumu Egitim Gelir_Duzeyi   Yasam_Yeri  \\\n",
       "0   53    Kadın      Bekar  Çalışıyor   Lise        Düşük  Küçük Şehir   \n",
       "\n",
       "  Psikolojik_Destek  Calisma_Suresi  Soru_1  ...  Soru_11  Soru_12  Soru_13  \\\n",
       "0             Hayır              12       1  ...        4        2        1   \n",
       "\n",
       "   Soru_14  Soru_15  Soru_16  Soru_17  Soru_18  Soru_19  Soru_20  \n",
       "0        0        3        1        4        3        1        1  \n",
       "\n",
       "[1 rows x 29 columns]"
      ]
     },
     "execution_count": 18,
     "metadata": {},
     "output_type": "execute_result"
    }
   ],
   "source": [
    "new_data"
   ]
  },
  {
   "cell_type": "code",
   "execution_count": 19,
   "id": "e4530702",
   "metadata": {},
   "outputs": [],
   "source": [
    "# Load the saved encoder\n",
    "with open('./encoders/anksiyete_rf_encoder.pkl', 'rb') as f:\n",
    "    encoder = pickle.load(f)\n",
    "\n",
    "# Load the saved model\n",
    "with open('./models/anksiyete_rf_model.pkl', 'rb') as f:\n",
    "    model = pickle.load(f)\n"
   ]
  },
  {
   "cell_type": "code",
   "execution_count": 20,
   "id": "11048313",
   "metadata": {},
   "outputs": [],
   "source": [
    "# Select only the same categorical columns used during training\n",
    "categorical_cols = new_data.select_dtypes(include=['object', 'category']).columns\n",
    "\n",
    "# Encode the categorical part\n",
    "encoded_new_cat = encoder.transform(new_data[categorical_cols])\n",
    "\n",
    "# Convert to DataFrame\n",
    "encoded_new_cat_df = pd.DataFrame(encoded_new_cat, columns=encoder.get_feature_names_out(categorical_cols), index=new_data.index)\n",
    "\n",
    "# Drop original categorical columns and concatenate encoded ones\n",
    "new_data_encoded = pd.concat([encoded_new_cat_df,new_data.drop(columns=categorical_cols)], axis=1)\n"
   ]
  },
  {
   "cell_type": "code",
   "execution_count": 21,
   "id": "99f856c9",
   "metadata": {},
   "outputs": [
    {
     "data": {
      "text/html": [
       "<div>\n",
       "<style scoped>\n",
       "    .dataframe tbody tr th:only-of-type {\n",
       "        vertical-align: middle;\n",
       "    }\n",
       "\n",
       "    .dataframe tbody tr th {\n",
       "        vertical-align: top;\n",
       "    }\n",
       "\n",
       "    .dataframe thead th {\n",
       "        text-align: right;\n",
       "    }\n",
       "</style>\n",
       "<table border=\"1\" class=\"dataframe\">\n",
       "  <thead>\n",
       "    <tr style=\"text-align: right;\">\n",
       "      <th></th>\n",
       "      <th>Cinsiyet_Diğer</th>\n",
       "      <th>Cinsiyet_Erkek</th>\n",
       "      <th>Cinsiyet_Kadın</th>\n",
       "      <th>Medeni_Hal_Bekar</th>\n",
       "      <th>Medeni_Hal_Boşanmış</th>\n",
       "      <th>Medeni_Hal_Dul</th>\n",
       "      <th>Medeni_Hal_Evli</th>\n",
       "      <th>Is_Durumu_Emekli</th>\n",
       "      <th>Is_Durumu_Çalışıyor</th>\n",
       "      <th>Is_Durumu_Öğrenci</th>\n",
       "      <th>...</th>\n",
       "      <th>Soru_11</th>\n",
       "      <th>Soru_12</th>\n",
       "      <th>Soru_13</th>\n",
       "      <th>Soru_14</th>\n",
       "      <th>Soru_15</th>\n",
       "      <th>Soru_16</th>\n",
       "      <th>Soru_17</th>\n",
       "      <th>Soru_18</th>\n",
       "      <th>Soru_19</th>\n",
       "      <th>Soru_20</th>\n",
       "    </tr>\n",
       "  </thead>\n",
       "  <tbody>\n",
       "    <tr>\n",
       "      <th>0</th>\n",
       "      <td>0.0</td>\n",
       "      <td>0.0</td>\n",
       "      <td>1.0</td>\n",
       "      <td>1.0</td>\n",
       "      <td>0.0</td>\n",
       "      <td>0.0</td>\n",
       "      <td>0.0</td>\n",
       "      <td>0.0</td>\n",
       "      <td>1.0</td>\n",
       "      <td>0.0</td>\n",
       "      <td>...</td>\n",
       "      <td>4</td>\n",
       "      <td>2</td>\n",
       "      <td>1</td>\n",
       "      <td>0</td>\n",
       "      <td>3</td>\n",
       "      <td>1</td>\n",
       "      <td>4</td>\n",
       "      <td>3</td>\n",
       "      <td>1</td>\n",
       "      <td>1</td>\n",
       "    </tr>\n",
       "  </tbody>\n",
       "</table>\n",
       "<p>1 rows × 46 columns</p>\n",
       "</div>"
      ],
      "text/plain": [
       "   Cinsiyet_Diğer  Cinsiyet_Erkek  Cinsiyet_Kadın  Medeni_Hal_Bekar  \\\n",
       "0             0.0             0.0             1.0               1.0   \n",
       "\n",
       "   Medeni_Hal_Boşanmış  Medeni_Hal_Dul  Medeni_Hal_Evli  Is_Durumu_Emekli  \\\n",
       "0                  0.0             0.0              0.0               0.0   \n",
       "\n",
       "   Is_Durumu_Çalışıyor  Is_Durumu_Öğrenci  ...  Soru_11  Soru_12  Soru_13  \\\n",
       "0                  1.0                0.0  ...        4        2        1   \n",
       "\n",
       "   Soru_14  Soru_15  Soru_16  Soru_17  Soru_18  Soru_19  Soru_20  \n",
       "0        0        3        1        4        3        1        1  \n",
       "\n",
       "[1 rows x 46 columns]"
      ]
     },
     "execution_count": 21,
     "metadata": {},
     "output_type": "execute_result"
    }
   ],
   "source": [
    "new_data_encoded"
   ]
  },
  {
   "cell_type": "code",
   "execution_count": 22,
   "id": "f5caa74e",
   "metadata": {},
   "outputs": [
    {
     "name": "stdout",
     "output_type": "stream",
     "text": [
      "Predicted Risk Group: Yüksek\n"
     ]
    }
   ],
   "source": [
    "# Predict with the loaded model\n",
    "prediction = model.predict(new_data_encoded)\n",
    "\n",
    "# Show result\n",
    "print(\"Predicted Risk Group:\", prediction[0])\n"
   ]
  },
  {
   "cell_type": "code",
   "execution_count": 23,
   "id": "b39379ba",
   "metadata": {},
   "outputs": [],
   "source": [
    "def predict_anksiyete(new_point, encoder_path, model_path):\n",
    "\n",
    "    new_data = pd.DataFrame([new_point])\n",
    "    \n",
    "    # Load the saved encoder\n",
    "    with open(encoder_path, 'rb') as f:\n",
    "        encoder = pickle.load(f)\n",
    "\n",
    "    # Load the saved model\n",
    "    with open(model_path, 'rb') as f:\n",
    "        model = pickle.load(f)\n",
    "\n",
    "    # Select only the same categorical columns used during training\n",
    "    categorical_cols = new_data.select_dtypes(include=['object', 'category']).columns\n",
    "\n",
    "    # Encode the categorical part\n",
    "    encoded_new_cat = encoder.transform(new_data[categorical_cols])\n",
    "\n",
    "    # Convert to DataFrame\n",
    "    encoded_new_cat_df = pd.DataFrame(encoded_new_cat, columns=encoder.get_feature_names_out(categorical_cols), index=new_data.index)\n",
    "\n",
    "    # Drop original categorical columns and concatenate encoded ones\n",
    "    new_data_encoded = pd.concat([encoded_new_cat_df,new_data.drop(columns=categorical_cols)], axis=1)\n",
    "\n",
    "    prediction = model.predict(new_data_encoded)\n",
    "\n",
    "    return prediction[0]"
   ]
  },
  {
   "cell_type": "code",
   "execution_count": 24,
   "id": "b8113aba",
   "metadata": {},
   "outputs": [],
   "source": [
    "encoder_path = './encoders/anksiyete_rf_encoder.pkl'\n",
    "model_path = './models/anksiyete_rf_model.pkl'"
   ]
  },
  {
   "cell_type": "code",
   "execution_count": 25,
   "id": "4890abf7",
   "metadata": {},
   "outputs": [
    {
     "data": {
      "text/plain": [
       "'Yüksek'"
      ]
     },
     "execution_count": 25,
     "metadata": {},
     "output_type": "execute_result"
    }
   ],
   "source": [
    "predict_anksiyete(new_point, encoder_path, model_path)"
   ]
  },
  {
   "cell_type": "code",
   "execution_count": 12,
   "id": "026ddd27",
   "metadata": {},
   "outputs": [
    {
     "data": {
      "text/plain": [
       "'Yüksek Risk'"
      ]
     },
     "execution_count": 12,
     "metadata": {},
     "output_type": "execute_result"
    }
   ],
   "source": [
    "predict(new_point, './encoders/anger_rf_encoder.pkl', './models/anger_rf_model.pkl')"
   ]
  },
  {
   "cell_type": "code",
   "execution_count": null,
   "id": "2d25dcb1",
   "metadata": {},
   "outputs": [],
   "source": []
  }
 ],
 "metadata": {
  "kernelspec": {
   "display_name": "Python 3",
   "language": "python",
   "name": "python3"
  },
  "language_info": {
   "codemirror_mode": {
    "name": "ipython",
    "version": 3
   },
   "file_extension": ".py",
   "mimetype": "text/x-python",
   "name": "python",
   "nbconvert_exporter": "python",
   "pygments_lexer": "ipython3",
   "version": "3.10.7"
  }
 },
 "nbformat": 4,
 "nbformat_minor": 5
}
